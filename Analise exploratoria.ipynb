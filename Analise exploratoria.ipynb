{
 "cells": [
  {
   "cell_type": "markdown",
   "metadata": {},
   "source": [
    "# Analise Exploratória"
   ]
  },
  {
   "cell_type": "markdown",
   "metadata": {},
   "source": [
    "Importação das Bibliotecas"
   ]
  },
  {
   "cell_type": "code",
   "execution_count": 1,
   "metadata": {},
   "outputs": [],
   "source": [
    "import pandas as pd"
   ]
  },
  {
   "cell_type": "code",
   "execution_count": 2,
   "metadata": {},
   "outputs": [],
   "source": [
    "import numpy as np"
   ]
  },
  {
   "cell_type": "markdown",
   "metadata": {},
   "source": [
    "Importando arquivo"
   ]
  },
  {
   "cell_type": "code",
   "execution_count": 3,
   "metadata": {},
   "outputs": [],
   "source": [
    "base_verificar = pd.read_csv(\"train.csv\")"
   ]
  },
  {
   "cell_type": "code",
   "execution_count": 4,
   "metadata": {},
   "outputs": [
    {
     "data": {
      "text/html": [
       "<div>\n",
       "<style scoped>\n",
       "    .dataframe tbody tr th:only-of-type {\n",
       "        vertical-align: middle;\n",
       "    }\n",
       "\n",
       "    .dataframe tbody tr th {\n",
       "        vertical-align: top;\n",
       "    }\n",
       "\n",
       "    .dataframe thead th {\n",
       "        text-align: right;\n",
       "    }\n",
       "</style>\n",
       "<table border=\"1\" class=\"dataframe\">\n",
       "  <thead>\n",
       "    <tr style=\"text-align: right;\">\n",
       "      <th></th>\n",
       "      <th>Type</th>\n",
       "      <th>Name</th>\n",
       "      <th>Age</th>\n",
       "      <th>Breed1</th>\n",
       "      <th>Breed2</th>\n",
       "      <th>Gender</th>\n",
       "      <th>Color1</th>\n",
       "      <th>Color2</th>\n",
       "      <th>Color3</th>\n",
       "      <th>MaturitySize</th>\n",
       "      <th>...</th>\n",
       "      <th>Health</th>\n",
       "      <th>Quantity</th>\n",
       "      <th>Fee</th>\n",
       "      <th>State</th>\n",
       "      <th>RescuerID</th>\n",
       "      <th>VideoAmt</th>\n",
       "      <th>Description</th>\n",
       "      <th>PetID</th>\n",
       "      <th>PhotoAmt</th>\n",
       "      <th>AdoptionSpeed</th>\n",
       "    </tr>\n",
       "  </thead>\n",
       "  <tbody>\n",
       "    <tr>\n",
       "      <th>0</th>\n",
       "      <td>2</td>\n",
       "      <td>Nibble</td>\n",
       "      <td>3</td>\n",
       "      <td>299</td>\n",
       "      <td>0</td>\n",
       "      <td>1</td>\n",
       "      <td>1</td>\n",
       "      <td>7</td>\n",
       "      <td>0</td>\n",
       "      <td>1</td>\n",
       "      <td>...</td>\n",
       "      <td>1</td>\n",
       "      <td>1</td>\n",
       "      <td>100</td>\n",
       "      <td>41326</td>\n",
       "      <td>8480853f516546f6cf33aa88cd76c379</td>\n",
       "      <td>0</td>\n",
       "      <td>Nibble is a 3+ month old ball of cuteness. He ...</td>\n",
       "      <td>86e1089a3</td>\n",
       "      <td>1.0</td>\n",
       "      <td>2</td>\n",
       "    </tr>\n",
       "    <tr>\n",
       "      <th>1</th>\n",
       "      <td>2</td>\n",
       "      <td>No Name Yet</td>\n",
       "      <td>1</td>\n",
       "      <td>265</td>\n",
       "      <td>0</td>\n",
       "      <td>1</td>\n",
       "      <td>1</td>\n",
       "      <td>2</td>\n",
       "      <td>0</td>\n",
       "      <td>2</td>\n",
       "      <td>...</td>\n",
       "      <td>1</td>\n",
       "      <td>1</td>\n",
       "      <td>0</td>\n",
       "      <td>41401</td>\n",
       "      <td>3082c7125d8fb66f7dd4bff4192c8b14</td>\n",
       "      <td>0</td>\n",
       "      <td>I just found it alone yesterday near my apartm...</td>\n",
       "      <td>6296e909a</td>\n",
       "      <td>2.0</td>\n",
       "      <td>0</td>\n",
       "    </tr>\n",
       "    <tr>\n",
       "      <th>2</th>\n",
       "      <td>1</td>\n",
       "      <td>Brisco</td>\n",
       "      <td>1</td>\n",
       "      <td>307</td>\n",
       "      <td>0</td>\n",
       "      <td>1</td>\n",
       "      <td>2</td>\n",
       "      <td>7</td>\n",
       "      <td>0</td>\n",
       "      <td>2</td>\n",
       "      <td>...</td>\n",
       "      <td>1</td>\n",
       "      <td>1</td>\n",
       "      <td>0</td>\n",
       "      <td>41326</td>\n",
       "      <td>fa90fa5b1ee11c86938398b60abc32cb</td>\n",
       "      <td>0</td>\n",
       "      <td>Their pregnant mother was dumped by her irresp...</td>\n",
       "      <td>3422e4906</td>\n",
       "      <td>7.0</td>\n",
       "      <td>3</td>\n",
       "    </tr>\n",
       "    <tr>\n",
       "      <th>3</th>\n",
       "      <td>1</td>\n",
       "      <td>Miko</td>\n",
       "      <td>4</td>\n",
       "      <td>307</td>\n",
       "      <td>0</td>\n",
       "      <td>2</td>\n",
       "      <td>1</td>\n",
       "      <td>2</td>\n",
       "      <td>0</td>\n",
       "      <td>2</td>\n",
       "      <td>...</td>\n",
       "      <td>1</td>\n",
       "      <td>1</td>\n",
       "      <td>150</td>\n",
       "      <td>41401</td>\n",
       "      <td>9238e4f44c71a75282e62f7136c6b240</td>\n",
       "      <td>0</td>\n",
       "      <td>Good guard dog, very alert, active, obedience ...</td>\n",
       "      <td>5842f1ff5</td>\n",
       "      <td>8.0</td>\n",
       "      <td>2</td>\n",
       "    </tr>\n",
       "    <tr>\n",
       "      <th>4</th>\n",
       "      <td>1</td>\n",
       "      <td>Hunter</td>\n",
       "      <td>1</td>\n",
       "      <td>307</td>\n",
       "      <td>0</td>\n",
       "      <td>1</td>\n",
       "      <td>1</td>\n",
       "      <td>0</td>\n",
       "      <td>0</td>\n",
       "      <td>2</td>\n",
       "      <td>...</td>\n",
       "      <td>1</td>\n",
       "      <td>1</td>\n",
       "      <td>0</td>\n",
       "      <td>41326</td>\n",
       "      <td>95481e953f8aed9ec3d16fc4509537e8</td>\n",
       "      <td>0</td>\n",
       "      <td>This handsome yet cute boy is up for adoption....</td>\n",
       "      <td>850a43f90</td>\n",
       "      <td>3.0</td>\n",
       "      <td>2</td>\n",
       "    </tr>\n",
       "  </tbody>\n",
       "</table>\n",
       "<p>5 rows × 24 columns</p>\n",
       "</div>"
      ],
      "text/plain": [
       "   Type         Name  Age  Breed1  Breed2  Gender  Color1  Color2  Color3  \\\n",
       "0     2       Nibble    3     299       0       1       1       7       0   \n",
       "1     2  No Name Yet    1     265       0       1       1       2       0   \n",
       "2     1       Brisco    1     307       0       1       2       7       0   \n",
       "3     1         Miko    4     307       0       2       1       2       0   \n",
       "4     1       Hunter    1     307       0       1       1       0       0   \n",
       "\n",
       "   MaturitySize      ...        Health  Quantity  Fee  State  \\\n",
       "0             1      ...             1         1  100  41326   \n",
       "1             2      ...             1         1    0  41401   \n",
       "2             2      ...             1         1    0  41326   \n",
       "3             2      ...             1         1  150  41401   \n",
       "4             2      ...             1         1    0  41326   \n",
       "\n",
       "                          RescuerID  VideoAmt  \\\n",
       "0  8480853f516546f6cf33aa88cd76c379         0   \n",
       "1  3082c7125d8fb66f7dd4bff4192c8b14         0   \n",
       "2  fa90fa5b1ee11c86938398b60abc32cb         0   \n",
       "3  9238e4f44c71a75282e62f7136c6b240         0   \n",
       "4  95481e953f8aed9ec3d16fc4509537e8         0   \n",
       "\n",
       "                                         Description      PetID PhotoAmt  \\\n",
       "0  Nibble is a 3+ month old ball of cuteness. He ...  86e1089a3      1.0   \n",
       "1  I just found it alone yesterday near my apartm...  6296e909a      2.0   \n",
       "2  Their pregnant mother was dumped by her irresp...  3422e4906      7.0   \n",
       "3  Good guard dog, very alert, active, obedience ...  5842f1ff5      8.0   \n",
       "4  This handsome yet cute boy is up for adoption....  850a43f90      3.0   \n",
       "\n",
       "   AdoptionSpeed  \n",
       "0              2  \n",
       "1              0  \n",
       "2              3  \n",
       "3              2  \n",
       "4              2  \n",
       "\n",
       "[5 rows x 24 columns]"
      ]
     },
     "execution_count": 4,
     "metadata": {},
     "output_type": "execute_result"
    }
   ],
   "source": [
    "base_verificar.head()"
   ]
  },
  {
   "cell_type": "code",
   "execution_count": 5,
   "metadata": {},
   "outputs": [],
   "source": [
    "colunas = base_verificar.columns.tolist()[:23]"
   ]
  },
  {
   "cell_type": "code",
   "execution_count": 6,
   "metadata": {},
   "outputs": [
    {
     "name": "stdout",
     "output_type": "stream",
     "text": [
      "Type    :    0\n",
      "Name    :    1257\n",
      "Age    :    0\n",
      "Breed1    :    0\n",
      "Breed2    :    0\n",
      "Gender    :    0\n",
      "Color1    :    0\n",
      "Color2    :    0\n",
      "Color3    :    0\n",
      "MaturitySize    :    0\n",
      "FurLength    :    0\n",
      "Vaccinated    :    0\n",
      "Dewormed    :    0\n",
      "Sterilized    :    0\n",
      "Health    :    0\n",
      "Quantity    :    0\n",
      "Fee    :    0\n",
      "State    :    0\n",
      "RescuerID    :    0\n",
      "VideoAmt    :    0\n",
      "Description    :    12\n",
      "PetID    :    0\n",
      "PhotoAmt    :    0\n"
     ]
    }
   ],
   "source": [
    "for i in colunas:\n",
    "    print (i + '    :    ' + str(sum(base_verificar[i].isnull())))"
   ]
  },
  {
   "cell_type": "code",
   "execution_count": 7,
   "metadata": {},
   "outputs": [],
   "source": [
    "colunas_verificar = base_verificar[colunas]\n",
    "coluna_resposta = base_verificar.AdoptionSpeed"
   ]
  },
  {
   "cell_type": "code",
   "execution_count": 8,
   "metadata": {},
   "outputs": [
    {
     "name": "stdout",
     "output_type": "stream",
     "text": [
      "Type\n",
      "                count      mean       std  min  25%  50%  75%  max\n",
      "AdoptionSpeed                                                     \n",
      "0               410.0  1.585366  0.493261  1.0  1.0  2.0  2.0  2.0\n",
      "1              3090.0  1.535599  0.498812  1.0  1.0  2.0  2.0  2.0\n",
      "2              4037.0  1.463958  0.498761  1.0  1.0  1.0  2.0  2.0\n",
      "3              3259.0  1.401964  0.490370  1.0  1.0  1.0  2.0  2.0\n",
      "4              4197.0  1.424827  0.494376  1.0  1.0  1.0  2.0  2.0\n",
      "Name\n",
      "              count unique      top freq\n",
      "AdoptionSpeed                           \n",
      "0               384    354    Lucky    5\n",
      "1              2819   2269    Lucky   14\n",
      "2              3725   2882    Lucky   16\n",
      "3              3043   2499  Brownie   12\n",
      "4              3765   2874     Baby   27\n",
      "Age\n",
      "                count       mean        std  min  25%  50%   75%    max\n",
      "AdoptionSpeed                                                          \n",
      "0               410.0  10.451220  17.775118  0.0  2.0  3.0  12.0  120.0\n",
      "1              3090.0   8.488350  15.746187  0.0  2.0  2.0   6.0  147.0\n",
      "2              4037.0   8.823631  16.779013  0.0  2.0  3.0   6.0  156.0\n",
      "3              3259.0  10.189936  18.672104  0.0  2.0  3.0   9.0  212.0\n",
      "4              4197.0  13.667858  20.177460  0.0  3.0  6.0  15.0  255.0\n",
      "Breed1\n",
      "                count        mean        std   min    25%    50%    75%    max\n",
      "AdoptionSpeed                                                                 \n",
      "0               410.0  251.097561  64.528156  19.0  251.0  266.0  292.0  307.0\n",
      "1              3090.0  255.885113  64.051862   5.0  264.0  266.0  307.0  307.0\n",
      "2              4037.0  265.928908  58.033812   0.0  265.0  266.0  307.0  307.0\n",
      "3              3259.0  262.409328  65.513624   0.0  265.0  266.0  307.0  307.0\n",
      "4              4197.0  275.160829  51.957572   0.0  266.0  299.0  307.0  307.0\n",
      "Breed2\n",
      "                count       mean         std  min  25%  50%    75%    max\n",
      "AdoptionSpeed                                                            \n",
      "0               410.0  96.575610  128.641312  0.0  0.0  0.0  265.0  307.0\n",
      "1              3090.0  73.209061  121.278584  0.0  0.0  0.0  185.0  307.0\n",
      "2              4037.0  72.624474  121.991231  0.0  0.0  0.0  147.0  307.0\n",
      "3              3259.0  80.782755  127.319371  0.0  0.0  0.0  218.0  307.0\n",
      "4              4197.0  68.467953  120.849341  0.0  0.0  0.0   76.0  307.0\n",
      "Gender\n",
      "                count      mean       std  min  25%  50%  75%  max\n",
      "AdoptionSpeed                                                     \n",
      "0               410.0  1.721951  0.652815  1.0  1.0  2.0  2.0  3.0\n",
      "1              3090.0  1.727508  0.695581  1.0  1.0  2.0  2.0  3.0\n",
      "2              4037.0  1.744860  0.679446  1.0  1.0  2.0  2.0  3.0\n",
      "3              3259.0  1.806689  0.670847  1.0  1.0  2.0  2.0  3.0\n",
      "4              4197.0  1.823684  0.680227  1.0  1.0  2.0  2.0  3.0\n",
      "Color1\n",
      "                count      mean       std  min  25%  50%  75%  max\n",
      "AdoptionSpeed                                                     \n",
      "0               410.0  2.402439  1.770857  1.0  1.0  2.0  3.0  7.0\n",
      "1              3090.0  2.374434  1.862181  1.0  1.0  2.0  3.0  7.0\n",
      "2              4037.0  2.233589  1.759353  1.0  1.0  1.0  3.0  7.0\n",
      "3              3259.0  2.169684  1.682354  1.0  1.0  1.0  2.0  7.0\n",
      "4              4197.0  2.165118  1.680410  1.0  1.0  2.0  2.0  7.0\n",
      "Color2\n",
      "                count      mean       std  min  25%  50%  75%  max\n",
      "AdoptionSpeed                                                     \n",
      "0               410.0  3.509756  2.764807  0.0  0.0  3.0  6.0  7.0\n",
      "1              3090.0  3.339482  2.785111  0.0  0.0  3.0  6.0  7.0\n",
      "2              4037.0  3.251672  2.720563  0.0  0.0  2.0  6.0  7.0\n",
      "3              3259.0  3.248236  2.742487  0.0  0.0  2.0  6.0  7.0\n",
      "4              4197.0  3.061472  2.722910  0.0  0.0  2.0  6.0  7.0\n",
      "Color3\n",
      "                count      mean       std  min  25%  50%   75%  max\n",
      "AdoptionSpeed                                                      \n",
      "0               410.0  2.158537  3.118952  0.0  0.0  0.0  6.75  7.0\n",
      "1              3090.0  1.869903  2.973918  0.0  0.0  0.0  5.00  7.0\n",
      "2              4037.0  1.910329  3.009464  0.0  0.0  0.0  5.00  7.0\n",
      "3              3259.0  1.820497  2.954847  0.0  0.0  0.0  5.00  7.0\n",
      "4              4197.0  1.884441  2.975710  0.0  0.0  0.0  5.00  7.0\n",
      "MaturitySize\n",
      "                count      mean       std  min  25%  50%  75%  max\n",
      "AdoptionSpeed                                                     \n",
      "0               410.0  1.775610  0.643485  1.0  1.0  2.0  2.0  4.0\n",
      "1              3090.0  1.821359  0.597662  1.0  1.0  2.0  2.0  4.0\n",
      "2              4037.0  1.862026  0.535219  1.0  2.0  2.0  2.0  4.0\n",
      "3              3259.0  1.885548  0.521575  1.0  2.0  2.0  2.0  4.0\n",
      "4              4197.0  1.882059  0.529091  1.0  2.0  2.0  2.0  4.0\n",
      "FurLength\n",
      "                count      mean       std  min  25%  50%  75%  max\n",
      "AdoptionSpeed                                                     \n",
      "0               410.0  1.663415  0.705465  1.0  1.0  2.0  2.0  3.0\n",
      "1              3090.0  1.548544  0.642011  1.0  1.0  1.0  2.0  3.0\n",
      "2              4037.0  1.467179  0.598748  1.0  1.0  1.0  2.0  3.0\n",
      "3              3259.0  1.435410  0.583472  1.0  1.0  1.0  2.0  3.0\n",
      "4              4197.0  1.413867  0.555781  1.0  1.0  1.0  2.0  3.0\n",
      "Vaccinated\n",
      "                count      mean       std  min  25%  50%  75%  max\n",
      "AdoptionSpeed                                                     \n",
      "0               410.0  1.785366  0.672753  1.0  1.0  2.0  2.0  3.0\n",
      "1              3090.0  1.800324  0.620623  1.0  1.0  2.0  2.0  3.0\n",
      "2              4037.0  1.747089  0.642633  1.0  1.0  2.0  2.0  3.0\n",
      "3              3259.0  1.681497  0.671574  1.0  1.0  2.0  2.0  3.0\n",
      "4              4197.0  1.698356  0.714503  1.0  1.0  2.0  2.0  3.0\n",
      "Dewormed\n",
      "                count      mean       std  min  25%  50%  75%  max\n",
      "AdoptionSpeed                                                     \n",
      "0               410.0  1.643902  0.719973  1.0  1.0  1.5  2.0  3.0\n",
      "1              3090.0  1.598058  0.673887  1.0  1.0  1.0  2.0  3.0\n",
      "2              4037.0  1.540253  0.674597  1.0  1.0  1.0  2.0  3.0\n",
      "3              3259.0  1.499540  0.685003  1.0  1.0  1.0  2.0  3.0\n",
      "4              4197.0  1.585180  0.733054  1.0  1.0  1.0  2.0  3.0\n",
      "Sterilized\n",
      "                count      mean       std  min  25%  50%  75%  max\n",
      "AdoptionSpeed                                                     \n",
      "0               410.0  2.000000  0.585063  1.0  2.0  2.0  2.0  3.0\n",
      "1              3090.0  1.994822  0.480071  1.0  2.0  2.0  2.0  3.0\n",
      "2              4037.0  1.926431  0.496057  1.0  2.0  2.0  2.0  3.0\n",
      "3              3259.0  1.867444  0.540200  1.0  2.0  2.0  2.0  3.0\n",
      "4              4197.0  1.871098  0.685417  1.0  1.0  2.0  2.0  3.0\n",
      "Health\n",
      "                count      mean       std  min  25%  50%  75%  max\n",
      "AdoptionSpeed                                                     \n",
      "0               410.0  1.046341  0.221793  1.0  1.0  1.0  1.0  3.0\n",
      "1              3090.0  1.030097  0.174630  1.0  1.0  1.0  1.0  3.0\n",
      "2              4037.0  1.029230  0.177075  1.0  1.0  1.0  1.0  3.0\n",
      "3              3259.0  1.036821  0.205496  1.0  1.0  1.0  1.0  3.0\n",
      "4              4197.0  1.047415  0.227707  1.0  1.0  1.0  1.0  3.0\n",
      "Quantity\n",
      "                count      mean       std  min  25%  50%  75%   max\n",
      "AdoptionSpeed                                                      \n",
      "0               410.0  1.414634  1.080514  1.0  1.0  1.0  1.0  10.0\n",
      "1              3090.0  1.464401  1.182666  1.0  1.0  1.0  1.0  20.0\n",
      "2              4037.0  1.551400  1.446998  1.0  1.0  1.0  1.0  20.0\n",
      "3              3259.0  1.534213  1.379155  1.0  1.0  1.0  1.0  20.0\n",
      "4              4197.0  1.730284  1.753566  1.0  1.0  1.0  2.0  20.0\n",
      "Fee\n",
      "                count       mean        std  min  25%  50%  75%     max\n",
      "AdoptionSpeed                                                          \n",
      "0               410.0  22.085366  87.177390  0.0  0.0  0.0  0.0  1000.0\n",
      "1              3090.0  21.822330  81.984139  0.0  0.0  0.0  0.0  2000.0\n",
      "2              4037.0  21.582611  79.459534  0.0  0.0  0.0  0.0  1000.0\n",
      "3              3259.0  20.151580  85.810678  0.0  0.0  0.0  0.0  3000.0\n",
      "4              4197.0  21.315702  66.997102  0.0  0.0  0.0  0.0   750.0\n",
      "State\n",
      "                count          mean        std      min      25%      50%  \\\n",
      "AdoptionSpeed                                                               \n",
      "0               410.0  41347.480488  33.079971  41324.0  41326.0  41326.0   \n",
      "1              3090.0  41346.546602  32.727911  41324.0  41326.0  41326.0   \n",
      "2              4037.0  41345.193213  32.070016  41324.0  41326.0  41326.0   \n",
      "3              3259.0  41343.587297  31.034842  41324.0  41326.0  41326.0   \n",
      "4              4197.0  41348.203717  33.439418  41324.0  41326.0  41326.0   \n",
      "\n",
      "                   75%      max  \n",
      "AdoptionSpeed                    \n",
      "0              41401.0  41401.0  \n",
      "1              41401.0  41401.0  \n",
      "2              41336.0  41415.0  \n",
      "3              41336.0  41415.0  \n",
      "4              41401.0  41415.0  \n",
      "RescuerID\n",
      "              count unique                               top freq\n",
      "AdoptionSpeed                                                    \n",
      "0               410    312  fa90fa5b1ee11c86938398b60abc32cb   12\n",
      "1              3090   1591  b53c34474d9e24574bcec6a3d3306a0d   52\n",
      "2              4037   1730  fa90fa5b1ee11c86938398b60abc32cb  173\n",
      "3              3259   1387  fa90fa5b1ee11c86938398b60abc32cb  223\n",
      "4              4197   2561  ee2747ce26468ec44c7194e7d1d9dad9   90\n",
      "VideoAmt\n",
      "                count      mean       std  min  25%  50%  75%  max\n",
      "AdoptionSpeed                                                     \n",
      "0               410.0  0.060976  0.294512  0.0  0.0  0.0  0.0  3.0\n",
      "1              3090.0  0.044984  0.289420  0.0  0.0  0.0  0.0  6.0\n",
      "2              4037.0  0.063413  0.349772  0.0  0.0  0.0  0.0  7.0\n",
      "3              3259.0  0.072722  0.401717  0.0  0.0  0.0  0.0  8.0\n",
      "4              4197.0  0.046223  0.338586  0.0  0.0  0.0  0.0  8.0\n",
      "Description\n",
      "              count unique                                                top  \\\n",
      "AdoptionSpeed                                                                   \n",
      "0               410    402  Same puppy as previous posting. This posting i...   \n",
      "1              3088   2938                                       For Adoption   \n",
      "2              4032   3790                                       For Adoption   \n",
      "3              3258   3047                                       For Adoption   \n",
      "4              4193   4001            Please feel free to contact us : Stuart   \n",
      "\n",
      "              freq  \n",
      "AdoptionSpeed       \n",
      "0                4  \n",
      "1               55  \n",
      "2               49  \n",
      "3               58  \n"
     ]
    },
    {
     "name": "stdout",
     "output_type": "stream",
     "text": [
      "4               16  \n",
      "PetID\n",
      "              count unique        top freq\n",
      "AdoptionSpeed                             \n",
      "0               410    410  9ad448a42    1\n",
      "1              3090   3090  6627a8ab8    1\n",
      "2              4037   4037  d3b4f29f8    1\n",
      "3              3259   3259  7650ed0f0    1\n",
      "4              4197   4197  02a13b2cb    1\n",
      "PhotoAmt\n",
      "                count      mean       std  min  25%  50%  75%   max\n",
      "AdoptionSpeed                                                      \n",
      "0               410.0  3.324390  2.830093  0.0  2.0  3.0  5.0  27.0\n",
      "1              3090.0  3.727184  2.993303  0.0  2.0  3.0  5.0  30.0\n",
      "2              4037.0  4.071836  3.472787  0.0  2.0  3.0  5.0  30.0\n",
      "3              3259.0  4.620743  4.204387  0.0  2.0  4.0  5.5  30.0\n",
      "4              4197.0  3.319990  3.152664  0.0  1.0  3.0  4.0  30.0\n"
     ]
    }
   ],
   "source": [
    "for i in colunas:\n",
    "    print (i)\n",
    "    print (colunas_verificar.groupby(coluna_resposta)[i].describe())"
   ]
  },
  {
   "cell_type": "code",
   "execution_count": 9,
   "metadata": {},
   "outputs": [
    {
     "data": {
      "text/html": [
       "<div>\n",
       "<style scoped>\n",
       "    .dataframe tbody tr th:only-of-type {\n",
       "        vertical-align: middle;\n",
       "    }\n",
       "\n",
       "    .dataframe tbody tr th {\n",
       "        vertical-align: top;\n",
       "    }\n",
       "\n",
       "    .dataframe thead th {\n",
       "        text-align: right;\n",
       "    }\n",
       "</style>\n",
       "<table border=\"1\" class=\"dataframe\">\n",
       "  <thead>\n",
       "    <tr style=\"text-align: right;\">\n",
       "      <th></th>\n",
       "      <th>Type</th>\n",
       "      <th>Age</th>\n",
       "      <th>Breed1</th>\n",
       "      <th>Breed2</th>\n",
       "      <th>Gender</th>\n",
       "      <th>Color1</th>\n",
       "      <th>Color2</th>\n",
       "      <th>Color3</th>\n",
       "      <th>MaturitySize</th>\n",
       "      <th>FurLength</th>\n",
       "      <th>Vaccinated</th>\n",
       "      <th>Dewormed</th>\n",
       "      <th>Sterilized</th>\n",
       "      <th>Health</th>\n",
       "      <th>Quantity</th>\n",
       "      <th>Fee</th>\n",
       "      <th>State</th>\n",
       "      <th>VideoAmt</th>\n",
       "      <th>PhotoAmt</th>\n",
       "      <th>AdoptionSpeed</th>\n",
       "    </tr>\n",
       "  </thead>\n",
       "  <tbody>\n",
       "    <tr>\n",
       "      <th>count</th>\n",
       "      <td>14993.000000</td>\n",
       "      <td>14993.000000</td>\n",
       "      <td>14993.000000</td>\n",
       "      <td>14993.000000</td>\n",
       "      <td>14993.000000</td>\n",
       "      <td>14993.000000</td>\n",
       "      <td>14993.000000</td>\n",
       "      <td>14993.000000</td>\n",
       "      <td>14993.000000</td>\n",
       "      <td>14993.000000</td>\n",
       "      <td>14993.000000</td>\n",
       "      <td>14993.000000</td>\n",
       "      <td>14993.000000</td>\n",
       "      <td>14993.000000</td>\n",
       "      <td>14993.000000</td>\n",
       "      <td>14993.000000</td>\n",
       "      <td>14993.000000</td>\n",
       "      <td>14993.000000</td>\n",
       "      <td>14993.000000</td>\n",
       "      <td>14993.000000</td>\n",
       "    </tr>\n",
       "    <tr>\n",
       "      <th>mean</th>\n",
       "      <td>1.457614</td>\n",
       "      <td>10.452078</td>\n",
       "      <td>265.272594</td>\n",
       "      <td>74.009738</td>\n",
       "      <td>1.776162</td>\n",
       "      <td>2.234176</td>\n",
       "      <td>3.222837</td>\n",
       "      <td>1.882012</td>\n",
       "      <td>1.862002</td>\n",
       "      <td>1.467485</td>\n",
       "      <td>1.731208</td>\n",
       "      <td>1.558727</td>\n",
       "      <td>1.914227</td>\n",
       "      <td>1.036617</td>\n",
       "      <td>1.576069</td>\n",
       "      <td>21.259988</td>\n",
       "      <td>41346.028347</td>\n",
       "      <td>0.056760</td>\n",
       "      <td>3.889215</td>\n",
       "      <td>2.516441</td>\n",
       "    </tr>\n",
       "    <tr>\n",
       "      <th>std</th>\n",
       "      <td>0.498217</td>\n",
       "      <td>18.155790</td>\n",
       "      <td>60.056818</td>\n",
       "      <td>123.011575</td>\n",
       "      <td>0.681592</td>\n",
       "      <td>1.745225</td>\n",
       "      <td>2.742562</td>\n",
       "      <td>2.984086</td>\n",
       "      <td>0.547959</td>\n",
       "      <td>0.599070</td>\n",
       "      <td>0.667649</td>\n",
       "      <td>0.695817</td>\n",
       "      <td>0.566172</td>\n",
       "      <td>0.199535</td>\n",
       "      <td>1.472477</td>\n",
       "      <td>78.414548</td>\n",
       "      <td>32.444153</td>\n",
       "      <td>0.346185</td>\n",
       "      <td>3.487810</td>\n",
       "      <td>1.177265</td>\n",
       "    </tr>\n",
       "    <tr>\n",
       "      <th>min</th>\n",
       "      <td>1.000000</td>\n",
       "      <td>0.000000</td>\n",
       "      <td>0.000000</td>\n",
       "      <td>0.000000</td>\n",
       "      <td>1.000000</td>\n",
       "      <td>1.000000</td>\n",
       "      <td>0.000000</td>\n",
       "      <td>0.000000</td>\n",
       "      <td>1.000000</td>\n",
       "      <td>1.000000</td>\n",
       "      <td>1.000000</td>\n",
       "      <td>1.000000</td>\n",
       "      <td>1.000000</td>\n",
       "      <td>1.000000</td>\n",
       "      <td>1.000000</td>\n",
       "      <td>0.000000</td>\n",
       "      <td>41324.000000</td>\n",
       "      <td>0.000000</td>\n",
       "      <td>0.000000</td>\n",
       "      <td>0.000000</td>\n",
       "    </tr>\n",
       "    <tr>\n",
       "      <th>25%</th>\n",
       "      <td>1.000000</td>\n",
       "      <td>2.000000</td>\n",
       "      <td>265.000000</td>\n",
       "      <td>0.000000</td>\n",
       "      <td>1.000000</td>\n",
       "      <td>1.000000</td>\n",
       "      <td>0.000000</td>\n",
       "      <td>0.000000</td>\n",
       "      <td>2.000000</td>\n",
       "      <td>1.000000</td>\n",
       "      <td>1.000000</td>\n",
       "      <td>1.000000</td>\n",
       "      <td>2.000000</td>\n",
       "      <td>1.000000</td>\n",
       "      <td>1.000000</td>\n",
       "      <td>0.000000</td>\n",
       "      <td>41326.000000</td>\n",
       "      <td>0.000000</td>\n",
       "      <td>2.000000</td>\n",
       "      <td>2.000000</td>\n",
       "    </tr>\n",
       "    <tr>\n",
       "      <th>50%</th>\n",
       "      <td>1.000000</td>\n",
       "      <td>3.000000</td>\n",
       "      <td>266.000000</td>\n",
       "      <td>0.000000</td>\n",
       "      <td>2.000000</td>\n",
       "      <td>2.000000</td>\n",
       "      <td>2.000000</td>\n",
       "      <td>0.000000</td>\n",
       "      <td>2.000000</td>\n",
       "      <td>1.000000</td>\n",
       "      <td>2.000000</td>\n",
       "      <td>1.000000</td>\n",
       "      <td>2.000000</td>\n",
       "      <td>1.000000</td>\n",
       "      <td>1.000000</td>\n",
       "      <td>0.000000</td>\n",
       "      <td>41326.000000</td>\n",
       "      <td>0.000000</td>\n",
       "      <td>3.000000</td>\n",
       "      <td>2.000000</td>\n",
       "    </tr>\n",
       "    <tr>\n",
       "      <th>75%</th>\n",
       "      <td>2.000000</td>\n",
       "      <td>12.000000</td>\n",
       "      <td>307.000000</td>\n",
       "      <td>179.000000</td>\n",
       "      <td>2.000000</td>\n",
       "      <td>3.000000</td>\n",
       "      <td>6.000000</td>\n",
       "      <td>5.000000</td>\n",
       "      <td>2.000000</td>\n",
       "      <td>2.000000</td>\n",
       "      <td>2.000000</td>\n",
       "      <td>2.000000</td>\n",
       "      <td>2.000000</td>\n",
       "      <td>1.000000</td>\n",
       "      <td>1.000000</td>\n",
       "      <td>0.000000</td>\n",
       "      <td>41401.000000</td>\n",
       "      <td>0.000000</td>\n",
       "      <td>5.000000</td>\n",
       "      <td>4.000000</td>\n",
       "    </tr>\n",
       "    <tr>\n",
       "      <th>max</th>\n",
       "      <td>2.000000</td>\n",
       "      <td>255.000000</td>\n",
       "      <td>307.000000</td>\n",
       "      <td>307.000000</td>\n",
       "      <td>3.000000</td>\n",
       "      <td>7.000000</td>\n",
       "      <td>7.000000</td>\n",
       "      <td>7.000000</td>\n",
       "      <td>4.000000</td>\n",
       "      <td>3.000000</td>\n",
       "      <td>3.000000</td>\n",
       "      <td>3.000000</td>\n",
       "      <td>3.000000</td>\n",
       "      <td>3.000000</td>\n",
       "      <td>20.000000</td>\n",
       "      <td>3000.000000</td>\n",
       "      <td>41415.000000</td>\n",
       "      <td>8.000000</td>\n",
       "      <td>30.000000</td>\n",
       "      <td>4.000000</td>\n",
       "    </tr>\n",
       "  </tbody>\n",
       "</table>\n",
       "</div>"
      ],
      "text/plain": [
       "               Type           Age        Breed1        Breed2        Gender  \\\n",
       "count  14993.000000  14993.000000  14993.000000  14993.000000  14993.000000   \n",
       "mean       1.457614     10.452078    265.272594     74.009738      1.776162   \n",
       "std        0.498217     18.155790     60.056818    123.011575      0.681592   \n",
       "min        1.000000      0.000000      0.000000      0.000000      1.000000   \n",
       "25%        1.000000      2.000000    265.000000      0.000000      1.000000   \n",
       "50%        1.000000      3.000000    266.000000      0.000000      2.000000   \n",
       "75%        2.000000     12.000000    307.000000    179.000000      2.000000   \n",
       "max        2.000000    255.000000    307.000000    307.000000      3.000000   \n",
       "\n",
       "             Color1        Color2        Color3  MaturitySize     FurLength  \\\n",
       "count  14993.000000  14993.000000  14993.000000  14993.000000  14993.000000   \n",
       "mean       2.234176      3.222837      1.882012      1.862002      1.467485   \n",
       "std        1.745225      2.742562      2.984086      0.547959      0.599070   \n",
       "min        1.000000      0.000000      0.000000      1.000000      1.000000   \n",
       "25%        1.000000      0.000000      0.000000      2.000000      1.000000   \n",
       "50%        2.000000      2.000000      0.000000      2.000000      1.000000   \n",
       "75%        3.000000      6.000000      5.000000      2.000000      2.000000   \n",
       "max        7.000000      7.000000      7.000000      4.000000      3.000000   \n",
       "\n",
       "         Vaccinated      Dewormed    Sterilized        Health      Quantity  \\\n",
       "count  14993.000000  14993.000000  14993.000000  14993.000000  14993.000000   \n",
       "mean       1.731208      1.558727      1.914227      1.036617      1.576069   \n",
       "std        0.667649      0.695817      0.566172      0.199535      1.472477   \n",
       "min        1.000000      1.000000      1.000000      1.000000      1.000000   \n",
       "25%        1.000000      1.000000      2.000000      1.000000      1.000000   \n",
       "50%        2.000000      1.000000      2.000000      1.000000      1.000000   \n",
       "75%        2.000000      2.000000      2.000000      1.000000      1.000000   \n",
       "max        3.000000      3.000000      3.000000      3.000000     20.000000   \n",
       "\n",
       "                Fee         State      VideoAmt      PhotoAmt  AdoptionSpeed  \n",
       "count  14993.000000  14993.000000  14993.000000  14993.000000   14993.000000  \n",
       "mean      21.259988  41346.028347      0.056760      3.889215       2.516441  \n",
       "std       78.414548     32.444153      0.346185      3.487810       1.177265  \n",
       "min        0.000000  41324.000000      0.000000      0.000000       0.000000  \n",
       "25%        0.000000  41326.000000      0.000000      2.000000       2.000000  \n",
       "50%        0.000000  41326.000000      0.000000      3.000000       2.000000  \n",
       "75%        0.000000  41401.000000      0.000000      5.000000       4.000000  \n",
       "max     3000.000000  41415.000000      8.000000     30.000000       4.000000  "
      ]
     },
     "execution_count": 9,
     "metadata": {},
     "output_type": "execute_result"
    }
   ],
   "source": [
    "base_verificar.describe()"
   ]
  },
  {
   "cell_type": "code",
   "execution_count": 20,
   "metadata": {},
   "outputs": [
    {
     "data": {
      "text/plain": [
       "<matplotlib.axes._subplots.AxesSubplot at 0x1efddcaee80>"
      ]
     },
     "execution_count": 20,
     "metadata": {},
     "output_type": "execute_result"
    },
    {
     "data": {
      "image/png": "[encoded data removed]",
      "text/plain": [
       "<Figure size 432x288 with 1 Axes>"
      ]
     },
     "metadata": {},
     "output_type": "display_data"
    }
   ],
   "source": [
    "base_verificar.AdoptionSpeed.hist()"
   ]
  },
  {
   "cell_type": "code",
   "execution_count": 11,
   "metadata": {},
   "outputs": [
    {
     "data": {
      "text/plain": [
       "<matplotlib.axes._subplots.AxesSubplot at 0x1efdd6ad2b0>"
      ]
     },
     "execution_count": 11,
     "metadata": {},
     "output_type": "execute_result"
    },
    {
     "data": {
      "image/png": "[encoded data removed]",
      "text/plain": [
       "<Figure size 432x288 with 1 Axes>"
      ]
     },
     "metadata": {},
     "output_type": "display_data"
    }
   ],
   "source": [
    "base_verificar.Age.hist()"
   ]
  },
  {
   "cell_type": "code",
   "execution_count": 12,
   "metadata": {},
   "outputs": [
    {
     "data": {
      "text/plain": [
       "<matplotlib.axes._subplots.AxesSubplot at 0x1efdd78b2e8>"
      ]
     },
     "execution_count": 12,
     "metadata": {},
     "output_type": "execute_result"
    },
    {
     "data": {
      "image/png": "[encoded data removed]",
      "text/plain": [
       "<Figure size 432x288 with 1 Axes>"
      ]
     },
     "metadata": {},
     "output_type": "display_data"
    }
   ],
   "source": [
    "base_verificar.Color1.hist()"
   ]
  },
  {
   "cell_type": "code",
   "execution_count": 13,
   "metadata": {},
   "outputs": [
    {
     "data": {
      "text/plain": [
       "AdoptionSpeed  Color1\n",
       "0              1          173\n",
       "               2          119\n",
       "               3           29\n",
       "               4           13\n",
       "               5           34\n",
       "               6           29\n",
       "               7           13\n",
       "1              1         1498\n",
       "               2          689\n",
       "               3          211\n",
       "               4          140\n",
       "               5          220\n",
       "               6          156\n",
       "               7          176\n",
       "2              1         2036\n",
       "               2          956\n",
       "               3          285\n",
       "               4          145\n",
       "               5          238\n",
       "               6          195\n",
       "               7          182\n",
       "3              1         1633\n",
       "               2          854\n",
       "               3          184\n",
       "               4          145\n",
       "               5          185\n",
       "               6          133\n",
       "               7          125\n",
       "4              1         2087\n",
       "               2         1132\n",
       "               3          238\n",
       "               4          191\n",
       "               5          207\n",
       "               6          171\n",
       "               7          171\n",
       "dtype: int64"
      ]
     },
     "execution_count": 13,
     "metadata": {},
     "output_type": "execute_result"
    }
   ],
   "source": [
    "base_verificar.groupby(['AdoptionSpeed','Color1']).size()"
   ]
  },
  {
   "cell_type": "code",
   "execution_count": 14,
   "metadata": {},
   "outputs": [
    {
     "data": {
      "text/plain": [
       "Color1\n",
       "1    7427\n",
       "2    3750\n",
       "3     947\n",
       "4     634\n",
       "5     884\n",
       "6     684\n",
       "7     667\n",
       "dtype: int64"
      ]
     },
     "execution_count": 14,
     "metadata": {},
     "output_type": "execute_result"
    }
   ],
   "source": [
    "base_verificar.groupby('Color1').size()"
   ]
  },
  {
   "cell_type": "code",
   "execution_count": 15,
   "metadata": {
    "scrolled": true
   },
   "outputs": [
    {
     "data": {
      "text/plain": [
       "<matplotlib.axes._subplots.AxesSubplot at 0x1efdd7dc0f0>"
      ]
     },
     "execution_count": 15,
     "metadata": {},
     "output_type": "execute_result"
    },
    {
     "data": {
      "image/png": "[encoded data removed]",
      "text/plain": [
       "<Figure size 432x288 with 1 Axes>"
      ]
     },
     "metadata": {},
     "output_type": "display_data"
    }
   ],
   "source": [
    "base_verificar.Type.hist()"
   ]
  },
  {
   "cell_type": "code",
   "execution_count": 16,
   "metadata": {},
   "outputs": [
    {
     "data": {
      "text/plain": [
       "<matplotlib.axes._subplots.AxesSubplot at 0x1efdd78bef0>"
      ]
     },
     "execution_count": 16,
     "metadata": {},
     "output_type": "execute_result"
    },
    {
     "data": {
      "image/png": "[encoded data removed]",
      "text/plain": [
       "<Figure size 432x288 with 1 Axes>"
      ]
     },
     "metadata": {},
     "output_type": "display_data"
    }
   ],
   "source": [
    "base_verificar.Dewormed.hist()"
   ]
  },
  {
   "cell_type": "code",
   "execution_count": 17,
   "metadata": {},
   "outputs": [
    {
     "data": {
      "text/plain": [
       "<matplotlib.axes._subplots.AxesSubplot at 0x1efddb3a390>"
      ]
     },
     "execution_count": 17,
     "metadata": {},
     "output_type": "execute_result"
    },
    {
     "data": {
      "image/png": "[encoded data removed]",
      "text/plain": [
       "<Figure size 432x288 with 1 Axes>"
      ]
     },
     "metadata": {},
     "output_type": "display_data"
    }
   ],
   "source": [
    "base_verificar.Sterilized.hist()"
   ]
  },
  {
   "cell_type": "code",
   "execution_count": 18,
   "metadata": {},
   "outputs": [
    {
     "data": {
      "text/plain": [
       "<matplotlib.axes._subplots.AxesSubplot at 0x1efddb9f438>"
      ]
     },
     "execution_count": 18,
     "metadata": {},
     "output_type": "execute_result"
    },
    {
     "data": {
      "image/png": "[encoded data removed]",
      "text/plain": [
       "<Figure size 432x288 with 1 Axes>"
      ]
     },
     "metadata": {},
     "output_type": "display_data"
    }
   ],
   "source": [
    "base_verificar.Vaccinated.hist()"
   ]
  },
  {
   "cell_type": "code",
   "execution_count": 21,
   "metadata": {},
   "outputs": [
    {
     "data": {
      "text/plain": [
       "<matplotlib.axes._subplots.AxesSubplot at 0x1efddcd01d0>"
      ]
     },
     "execution_count": 21,
     "metadata": {},
     "output_type": "execute_result"
    },
    {
     "data": {
      "image/png": "[encoded data removed]",
      "text/plain": [
       "<Figure size 432x288 with 1 Axes>"
      ]
     },
     "metadata": {},
     "output_type": "display_data"
    }
   ],
   "source": [
    "base_verificar.MaturitySize.hist()"
   ]
  },
  {
   "cell_type": "code",
   "execution_count": 28,
   "metadata": {},
   "outputs": [
    {
     "data": {
      "text/plain": [
       "<matplotlib.axes._subplots.AxesSubplot at 0x1efddfcfef0>"
      ]
     },
     "execution_count": 28,
     "metadata": {},
     "output_type": "execute_result"
    },
    {
     "data": {
      "image/png": "[encoded data removed]",
      "text/plain": [
       "<Figure size 432x288 with 1 Axes>"
      ]
     },
     "metadata": {},
     "output_type": "display_data"
    }
   ],
   "source": [
    "base_verificar.Breed1.hist()"
   ]
  },
  {
   "cell_type": "code",
   "execution_count": 44,
   "metadata": {},
   "outputs": [
    {
     "data": {
      "text/plain": [
       "Breed1\n",
       "0         5\n",
       "1         2\n",
       "3         1\n",
       "5         2\n",
       "7         1\n",
       "10        3\n",
       "11        2\n",
       "15        9\n",
       "16        1\n",
       "17        6\n",
       "18        6\n",
       "19        9\n",
       "20       90\n",
       "21        1\n",
       "23        1\n",
       "24        2\n",
       "25        3\n",
       "26       26\n",
       "31        8\n",
       "32        3\n",
       "39       26\n",
       "42        5\n",
       "44       10\n",
       "49       16\n",
       "50       12\n",
       "56        1\n",
       "58        2\n",
       "60       37\n",
       "61        1\n",
       "64        1\n",
       "       ... \n",
       "276      34\n",
       "277       8\n",
       "279       3\n",
       "280       5\n",
       "281       2\n",
       "282      17\n",
       "283      73\n",
       "284       7\n",
       "285     221\n",
       "286       1\n",
       "287       1\n",
       "288      16\n",
       "289      26\n",
       "290       1\n",
       "292     264\n",
       "293       3\n",
       "294       4\n",
       "295      13\n",
       "296       5\n",
       "297       5\n",
       "298       1\n",
       "299     342\n",
       "300      21\n",
       "301       5\n",
       "302       1\n",
       "303      42\n",
       "304       7\n",
       "305       8\n",
       "306      56\n",
       "307    5927\n",
       "Length: 176, dtype: int64"
      ]
     },
     "execution_count": 44,
     "metadata": {},
     "output_type": "execute_result"
    }
   ],
   "source": [
    "base_verificar.groupby('Breed1').size()\n"
   ]
  },
  {
   "cell_type": "code",
   "execution_count": 37,
   "metadata": {},
   "outputs": [
    {
     "data": {
      "text/plain": [
       "<matplotlib.axes._subplots.AxesSubplot at 0x1efde1c1278>"
      ]
     },
     "execution_count": 37,
     "metadata": {},
     "output_type": "execute_result"
    },
    {
     "data": {
      "image/png": "[encoded data removed]",
      "text/plain": [
       "<Figure size 432x288 with 1 Axes>"
      ]
     },
     "metadata": {},
     "output_type": "display_data"
    }
   ],
   "source": [
    "base_verificar.Gender.hist()"
   ]
  },
  {
   "cell_type": "code",
   "execution_count": 45,
   "metadata": {},
   "outputs": [],
   "source": [
    "base_verificar['AdoptionSpeedNew'] = [2 if x==4 else 1 for x in base_verificar['AdoptionSpeed']]"
   ]
  },
  {
   "cell_type": "code",
   "execution_count": 46,
   "metadata": {},
   "outputs": [
    {
     "data": {
      "text/plain": [
       "<matplotlib.axes._subplots.AxesSubplot at 0x1efde2426a0>"
      ]
     },
     "execution_count": 46,
     "metadata": {},
     "output_type": "execute_result"
    },
    {
     "data": {
      "image/png": "[encoded data removed]",
      "text/plain": [
       "<Figure size 432x288 with 1 Axes>"
      ]
     },
     "metadata": {},
     "output_type": "display_data"
    }
   ],
   "source": [
    "base_verificar.AdoptionSpeedNew.hist()"
   ]
  }
 ],
 "metadata": {
  "kernelspec": {
   "display_name": "Python 3",
   "language": "python",
   "name": "python3"
  },
  "language_info": {
   "codemirror_mode": {
    "name": "ipython",
    "version": 3
   },
   "file_extension": ".py",
   "mimetype": "text/x-python",
   "name": "python",
   "nbconvert_exporter": "python",
   "pygments_lexer": "ipython3",
   "version": "3.6.3"
  }
 },
 "nbformat": 4,
 "nbformat_minor": 2
}
