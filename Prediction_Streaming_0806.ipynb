{
 "cells": [
  {
   "cell_type": "code",
   "execution_count": 1,
   "metadata": {},
   "outputs": [
    {
     "name": "stderr",
     "output_type": "stream",
     "text": [
      "Using TensorFlow backend.\n"
     ]
    }
   ],
   "source": [
    "#faz import de todas as bibliotecas a serem utilizadas\n",
    "from pyspark.sql.types import StructType, StructField, StringType, IntegerType, DoubleType\n",
    "import cv2\n",
    "import pandas as pd\n",
    "import numpy as np\n",
    "import os\n",
    "import json\n",
    "from tqdm import tqdm, tqdm_notebook\n",
    "from keras.models import Sequential\n",
    "from keras.layers import Dense, Flatten, Activation\n",
    "from keras.layers import Dropout\n",
    "from keras.layers.convolutional import Conv2D, MaxPooling2D\n",
    "from keras.utils import np_utils\n",
    "from keras.optimizers import SGD, RMSprop, Adam\n",
    "from keras.models import model_from_json\n",
    "from keras.models import load_model\n",
    "import matplotlib.pyplot as plt\n",
    "import pickle"
   ]
  },
  {
   "cell_type": "code",
   "execution_count": 257,
   "metadata": {},
   "outputs": [],
   "source": [
    "#inicia a captura dos dados do tópico do Kafka\n",
    "dados = spark.readStream.format(\"kafka\")\\\n",
    "        .option(\"kafka.bootstrap.servers\", \"elephant:9092\")\\\n",
    "        .option(\"subscribe\", \"prediction\")\\\n",
    "        .option(\"startingOffsets\",\"latest\")\\\n",
    "        .load()"
   ]
  },
  {
   "cell_type": "code",
   "execution_count": 258,
   "metadata": {},
   "outputs": [],
   "source": [
    "#transforma os dados capturados em string\n",
    "dados_transformados = dados.selectExpr(\"CAST(value AS STRING) as csv\")"
   ]
  },
  {
   "cell_type": "code",
   "execution_count": 259,
   "metadata": {},
   "outputs": [],
   "source": [
    "#separa os campos pela vírgula\n",
    "dados_finais = dados_transformados.selectExpr(\n",
    "    \"split(csv, ',')[0] as Type\", \n",
    "    \"split(csv, ',')[1] as Name\", \n",
    "    \"split(csv, ',')[2] as Age\",\n",
    "    \"split(csv, ',')[3] as Breed1\", \n",
    "    \"split(csv, ',')[4] as Breed2\", \n",
    "    \"split(csv, ',')[5] as Gender\",\n",
    "    \"split(csv, ',')[6] as Color1\", \n",
    "    \"split(csv, ',')[7] as Color2\", \n",
    "    \"split(csv, ',')[8] as Color3\",\n",
    "    \"split(csv, ',')[9] as MaturitySize\",\n",
    "    \"split(csv, ',')[10] as FurLength\", \n",
    "    \"split(csv, ',')[11] as Vaccinated\", \n",
    "    \"split(csv, ',')[12] as Dewormed\",\n",
    "    \"split(csv, ',')[13] as Sterilized\", \n",
    "    \"split(csv, ',')[14] as Health\",\n",
    "    \"split(csv, ',')[15] as Quantity\",\n",
    "    \"split(csv, ',')[16] as Fee\", \n",
    "    \"split(csv, ',')[17] as State\",\n",
    "    \"split(csv, ',')[18] as RescuerID\", \n",
    "    \"split(csv, ',')[19] as VideoAmt\",\n",
    "    \"split(csv, ',')[20] as Description\",\n",
    "    \"split(csv, ',')[21] as PetID\",\n",
    "    \"split(csv, ',')[22] as PhotoAmt\"\n",
    ")"
   ]
  },
  {
   "cell_type": "code",
   "execution_count": 260,
   "metadata": {},
   "outputs": [
    {
     "name": "stdout",
     "output_type": "stream",
     "text": [
      "Deleted /user/labdata/checkpoint\n",
      "Deleted /user/labdata/prediction_streaming\n"
     ]
    }
   ],
   "source": [
    "!hdfs dfs -rm -r /user/labdata/checkpoint\n",
    "!hdfs dfs -rm -r /user/labdata/prediction_streaming"
   ]
  },
  {
   "cell_type": "code",
   "execution_count": 261,
   "metadata": {},
   "outputs": [],
   "source": [
    "#gravar os dados recebidos do tópico Kafka no HDFS para que possa ser executado depois o modelo \n",
    "consulta = dados_finais.writeStream.format(\"csv\")\\\n",
    "                               .option(\"checkpointLocation\", \"/user/labdata/checkpoint\")\\\n",
    "                               .start(\"/user/labdata/prediction_streaming\")"
   ]
  },
  {
   "cell_type": "code",
   "execution_count": 262,
   "metadata": {},
   "outputs": [],
   "source": [
    "#lê o tópico Kafka no Dataframe do Spark\n",
    "df_streaming_total = sqlContext.read.option(\"delimiter\",\",\").option(\"header\",\"false\").csv(\"/user/labdata/prediction_streaming/part-*\")"
   ]
  },
  {
   "cell_type": "code",
   "execution_count": 263,
   "metadata": {},
   "outputs": [
    {
     "name": "stdout",
     "output_type": "stream",
     "text": [
      "+---+-----------+---+---+---+---+---+---+---+---+----+----+----+----+----+----+----+-----+--------------------------------+----+---------+---------+----+\n",
      "|_c0|_c1        |_c2|_c3|_c4|_c5|_c6|_c7|_c8|_c9|_c10|_c11|_c12|_c13|_c14|_c15|_c16|_c17 |_c18                            |_c19|_c20     |_c21     |_c22|\n",
      "+---+-----------+---+---+---+---+---+---+---+---+----+----+----+----+----+----+----+-----+--------------------------------+----+---------+---------+----+\n",
      "|2  |Tom & Jerry|3  |265|264|1  |6  |0  |0  |3  |2   |1   |1   |1   |1   |1   |30  |41326|6f40a7acfad5cc0bb3e44591ea446c05|0   |descricao|ac9fefd28|5.0 |\n",
      "+---+-----------+---+---+---+---+---+---+---+---+----+----+----+----+----+----+----+-----+--------------------------------+----+---------+---------+----+\n",
      "\n"
     ]
    }
   ],
   "source": [
    "df_streaming_total.show(truncate=False)"
   ]
  },
  {
   "cell_type": "code",
   "execution_count": 264,
   "metadata": {},
   "outputs": [],
   "source": [
    "#Recupera o schema atual do dataframe e monta as novas colunas\n",
    "oldColumns = df_streaming_total.schema.names\n",
    "newColumns = ['Type', 'Name', 'Age', 'Breed1', 'Breed2', 'Gender','Color1', 'Color2', 'Color3', 'MaturitySize',\n",
    "                     'FurLength', 'Vaccinated', 'Dewormed', 'Sterilized', 'Health','Quantity', 'Fee', 'State', \n",
    "                     'RescuerID', 'VideoAmt', 'Description','PetID', 'PhotoAmt']"
   ]
  },
  {
   "cell_type": "code",
   "execution_count": 265,
   "metadata": {},
   "outputs": [],
   "source": [
    "#renomeia as colunas com os nomes utilizados no modelo\n",
    "i = 0\n",
    "while i <= 22:\n",
    "    df_streaming_total = df_streaming_total.withColumnRenamed(oldColumns[i], newColumns[i])\n",
    "    i = i + 1"
   ]
  },
  {
   "cell_type": "code",
   "execution_count": 266,
   "metadata": {},
   "outputs": [
    {
     "name": "stdout",
     "output_type": "stream",
     "text": [
      "+----+-----------+---+------+------+------+------+------+------+------------+---------+----------+--------+----------+------+--------+---+-----+--------------------+--------+-----------+---------+--------+\n",
      "|Type|       Name|Age|Breed1|Breed2|Gender|Color1|Color2|Color3|MaturitySize|FurLength|Vaccinated|Dewormed|Sterilized|Health|Quantity|Fee|State|           RescuerID|VideoAmt|Description|    PetID|PhotoAmt|\n",
      "+----+-----------+---+------+------+------+------+------+------+------------+---------+----------+--------+----------+------+--------+---+-----+--------------------+--------+-----------+---------+--------+\n",
      "|   2|Tom & Jerry|  3|   265|   264|     1|     6|     0|     0|           3|        2|         1|       1|         1|     1|       1| 30|41326|6f40a7acfad5cc0bb...|       0|  descricao|ac9fefd28|     5.0|\n",
      "+----+-----------+---+------+------+------+------+------+------+------------+---------+----------+--------+----------+------+--------+---+-----+--------------------+--------+-----------+---------+--------+\n",
      "\n"
     ]
    }
   ],
   "source": [
    "df_streaming_total.show()"
   ]
  },
  {
   "cell_type": "code",
   "execution_count": 267,
   "metadata": {},
   "outputs": [],
   "source": [
    "#transforma o dataframe spark em dataframe python, pois, nosso modelo está no python/keras\n",
    "df_streaming = df_streaming_total.toPandas()\n",
    "df_streaming_totpandas = df_streaming_total.toPandas()"
   ]
  },
  {
   "cell_type": "code",
   "execution_count": 268,
   "metadata": {},
   "outputs": [],
   "source": [
    "#retirando colunas de nome e descrição, neste primeiro momento não faremos analise de sentimento.\n",
    "df_streaming = df_streaming.drop(columns=['Description','State','RescuerID'])"
   ]
  },
  {
   "cell_type": "code",
   "execution_count": 269,
   "metadata": {},
   "outputs": [],
   "source": [
    "#transformar algumas váriaveis para o tipo Inteiro,porque na binarização das variáveis ocorre erro por não serem \n",
    "#variáveis numéricas\n",
    "df_streaming['Type'] = int(df_streaming['Type'])\n",
    "df_streaming['Gender'] = int(df_streaming['Gender'])\n",
    "df_streaming['FurLength'] = int(df_streaming['FurLength'])\n",
    "df_streaming['Vaccinated'] = int(df_streaming['Vaccinated'])\n",
    "df_streaming['Dewormed'] = int(df_streaming['Dewormed'])\n",
    "df_streaming['Sterilized'] = int(df_streaming['Sterilized'])\n",
    "df_streaming['MaturitySize'] = int(df_streaming['MaturitySize'])\n",
    "df_streaming['Health'] = int(df_streaming['Health'])"
   ]
  },
  {
   "cell_type": "code",
   "execution_count": 270,
   "metadata": {},
   "outputs": [],
   "source": [
    "#Agrupar o conteúdo de algumas variáveis(Clusterização)\n",
    "\n",
    "#Name: 2 classes (com nome e sem nome)\n",
    "df_streaming['NameNew'] = ['1' if pd.notnull(x) else '2' for x in df_streaming['Name']]\n",
    "\n",
    "#Age: 3 classes (até 3 meses, até 12 meses e acima de 12 meses)\n",
    "df_streaming['AgeNew'] = ['1' if int(x)<=3 else('2' if (int(x)>3 and int(x)<=12) else '3') for x in df_streaming['Age']]\n",
    "\n",
    "#Breed1: 3 classes\n",
    "#Sem raça definida: breed 1 = 307, 266, 265, 299, 264\n",
    "#Raça pura: breed 1 <> 307, 266, 265, 299, 264 e breed 2 = 0\n",
    "#Raça misturada: breed 1 <> 307, 266, 265, 299, 264 e breed 2 <> 0\n",
    "df_streaming['Breed1New'] = ['1' if x in['307','266','265','299','264'] else '2' for x in df_streaming['Breed1']]\n",
    "\n",
    "#Color: 2 classes\n",
    "#Quantidade de cores: 1 ou mais que 1\n",
    "df_streaming['ColorQtde'] = ['1' if x == '0' else '2' for x in df_streaming['Color2']]\n",
    "#Cor predominante: escura ou clara\n",
    "df_streaming['ColorMain'] = ['1' if int(x) <= 2 else '2' for x in df_streaming['Color1']]\n",
    "\n",
    "#MaturitySize: 3 classes (juntar 3-Large e 4-Extra large)\n",
    "#1 = Small, 2 = Medium, 3 = Large\n",
    "df_streaming['MaturitySizeNew'] = [x if x != '4' else '3' for x in df_streaming['MaturitySize']] \n",
    "\n",
    "#Health: 2 classes (saudável e não saudável)\n",
    "df_streaming['HealthNew'] = [x if x != '3' else '2' for x in df_streaming['Health']] \n",
    "\n",
    "#Quantity: 2 classes (1 animal e mais de 1 animal)\n",
    "df_streaming['QuantityNew'] = ['2' if int(x)>=2 else '1' for x in df_streaming['Quantity']]\n",
    "\n",
    "#Fee: 2 classes (com taxa e sem taxa)\n",
    "df_streaming['FeeNew'] = ['2' if int(x)>0 else '1' for x in df_streaming['Fee']]\n",
    "\n",
    "#PhotoAmt: 2 classes (1 foto e mais de 1 foto)\n",
    "df_streaming['PhotoAmtNew'] = ['1' if float(x)==1 else '2' for x in df_streaming['PhotoAmt']]\n"
   ]
  },
  {
   "cell_type": "code",
   "execution_count": 271,
   "metadata": {},
   "outputs": [],
   "source": [
    "#exclui as variáveis que foram utilizadas apenas para a criação de novas variáveis.\n",
    "df_streaming = df_streaming.drop(columns=['Name','VideoAmt','Age','Breed1','Breed2','Color1','Color2','Color3','MaturitySize','Health','Quantity','Fee','PhotoAmt'])"
   ]
  },
  {
   "cell_type": "code",
   "execution_count": 272,
   "metadata": {},
   "outputs": [],
   "source": [
    "#Tratando as features para serem utilizadas na rede neural\n",
    "#Categóricas\n",
    "labels_streaming = ['Type', 'Gender', 'FurLength', 'Vaccinated', 'Dewormed', 'Sterilized','NameNew', 'AgeNew', 'Breed1New', 'ColorQtde','ColorMain', 'MaturitySizeNew', 'HealthNew', 'QuantityNew', 'FeeNew','PhotoAmtNew']"
   ]
  },
  {
   "cell_type": "code",
   "execution_count": 273,
   "metadata": {},
   "outputs": [],
   "source": [
    "#carregando o modelo do label binarizer para binazirar as variáveis do dataframe\n",
    "loaded_model_lb = pickle.load(open('binarizer_model.sav', 'rb'))"
   ]
  },
  {
   "cell_type": "code",
   "execution_count": 274,
   "metadata": {},
   "outputs": [
    {
     "data": {
      "text/html": [
       "<div>\n",
       "<style scoped>\n",
       "    .dataframe tbody tr th:only-of-type {\n",
       "        vertical-align: middle;\n",
       "    }\n",
       "\n",
       "    .dataframe tbody tr th {\n",
       "        vertical-align: top;\n",
       "    }\n",
       "\n",
       "    .dataframe thead th {\n",
       "        text-align: right;\n",
       "    }\n",
       "</style>\n",
       "<table border=\"1\" class=\"dataframe\">\n",
       "  <thead>\n",
       "    <tr style=\"text-align: right;\">\n",
       "      <th></th>\n",
       "      <th>Type</th>\n",
       "      <th>Gender</th>\n",
       "      <th>FurLength</th>\n",
       "      <th>Vaccinated</th>\n",
       "      <th>Dewormed</th>\n",
       "      <th>Sterilized</th>\n",
       "      <th>PetID</th>\n",
       "      <th>NameNew</th>\n",
       "      <th>AgeNew</th>\n",
       "      <th>Breed1New</th>\n",
       "      <th>ColorQtde</th>\n",
       "      <th>ColorMain</th>\n",
       "      <th>MaturitySizeNew</th>\n",
       "      <th>HealthNew</th>\n",
       "      <th>QuantityNew</th>\n",
       "      <th>FeeNew</th>\n",
       "      <th>PhotoAmtNew</th>\n",
       "    </tr>\n",
       "  </thead>\n",
       "  <tbody>\n",
       "    <tr>\n",
       "      <th>0</th>\n",
       "      <td>2</td>\n",
       "      <td>1</td>\n",
       "      <td>2</td>\n",
       "      <td>1</td>\n",
       "      <td>1</td>\n",
       "      <td>1</td>\n",
       "      <td>ac9fefd28</td>\n",
       "      <td>1</td>\n",
       "      <td>1</td>\n",
       "      <td>1</td>\n",
       "      <td>1</td>\n",
       "      <td>2</td>\n",
       "      <td>3</td>\n",
       "      <td>1</td>\n",
       "      <td>1</td>\n",
       "      <td>2</td>\n",
       "      <td>2</td>\n",
       "    </tr>\n",
       "  </tbody>\n",
       "</table>\n",
       "</div>"
      ],
      "text/plain": [
       "   Type  Gender  FurLength  Vaccinated  Dewormed  Sterilized      PetID  \\\n",
       "0     2       1          2           1         1           1  ac9fefd28   \n",
       "\n",
       "  NameNew AgeNew Breed1New ColorQtde ColorMain  MaturitySizeNew  HealthNew  \\\n",
       "0       1      1         1         1         2                3          1   \n",
       "\n",
       "  QuantityNew FeeNew PhotoAmtNew  \n",
       "0           1      2           2  "
      ]
     },
     "execution_count": 274,
     "metadata": {},
     "output_type": "execute_result"
    }
   ],
   "source": [
    "df_streaming"
   ]
  },
  {
   "cell_type": "code",
   "execution_count": 275,
   "metadata": {},
   "outputs": [
    {
     "name": "stderr",
     "output_type": "stream",
     "text": [
      "/usr/lib64/python3.6/site-packages/numpy/lib/arraysetops.py:472: FutureWarning: elementwise comparison failed; returning scalar instead, but in the future will perform elementwise comparison\n",
      "  mask |= (ar1 == a)\n",
      "/usr/lib64/python3.6/site-packages/numpy/lib/arraysetops.py:472: FutureWarning: elementwise comparison failed; returning scalar instead, but in the future will perform elementwise comparison\n",
      "  mask |= (ar1 == a)\n",
      "/usr/lib64/python3.6/site-packages/numpy/lib/arraysetops.py:472: FutureWarning: elementwise comparison failed; returning scalar instead, but in the future will perform elementwise comparison\n",
      "  mask |= (ar1 == a)\n",
      "/usr/lib64/python3.6/site-packages/numpy/lib/arraysetops.py:472: FutureWarning: elementwise comparison failed; returning scalar instead, but in the future will perform elementwise comparison\n",
      "  mask |= (ar1 == a)\n",
      "/usr/lib64/python3.6/site-packages/numpy/lib/arraysetops.py:472: FutureWarning: elementwise comparison failed; returning scalar instead, but in the future will perform elementwise comparison\n",
      "  mask |= (ar1 == a)\n",
      "/usr/lib64/python3.6/site-packages/numpy/lib/arraysetops.py:472: FutureWarning: elementwise comparison failed; returning scalar instead, but in the future will perform elementwise comparison\n",
      "  mask |= (ar1 == a)\n",
      "/usr/lib64/python3.6/site-packages/numpy/lib/arraysetops.py:472: FutureWarning: elementwise comparison failed; returning scalar instead, but in the future will perform elementwise comparison\n",
      "  mask |= (ar1 == a)\n",
      "/usr/lib64/python3.6/site-packages/numpy/lib/arraysetops.py:472: FutureWarning: elementwise comparison failed; returning scalar instead, but in the future will perform elementwise comparison\n",
      "  mask |= (ar1 == a)\n"
     ]
    }
   ],
   "source": [
    "#faz o tranform do dataframe para binarizar as variáveis\n",
    "for a in labels_streaming:\n",
    "    df_streaming[a] = loaded_model_lb.transform(df_streaming[a])"
   ]
  },
  {
   "cell_type": "code",
   "execution_count": 276,
   "metadata": {},
   "outputs": [
    {
     "data": {
      "text/html": [
       "<div>\n",
       "<style scoped>\n",
       "    .dataframe tbody tr th:only-of-type {\n",
       "        vertical-align: middle;\n",
       "    }\n",
       "\n",
       "    .dataframe tbody tr th {\n",
       "        vertical-align: top;\n",
       "    }\n",
       "\n",
       "    .dataframe thead th {\n",
       "        text-align: right;\n",
       "    }\n",
       "</style>\n",
       "<table border=\"1\" class=\"dataframe\">\n",
       "  <thead>\n",
       "    <tr style=\"text-align: right;\">\n",
       "      <th></th>\n",
       "      <th>Type</th>\n",
       "      <th>Gender</th>\n",
       "      <th>FurLength</th>\n",
       "      <th>Vaccinated</th>\n",
       "      <th>Dewormed</th>\n",
       "      <th>Sterilized</th>\n",
       "      <th>PetID</th>\n",
       "      <th>NameNew</th>\n",
       "      <th>AgeNew</th>\n",
       "      <th>Breed1New</th>\n",
       "      <th>ColorQtde</th>\n",
       "      <th>ColorMain</th>\n",
       "      <th>MaturitySizeNew</th>\n",
       "      <th>HealthNew</th>\n",
       "      <th>QuantityNew</th>\n",
       "      <th>FeeNew</th>\n",
       "      <th>PhotoAmtNew</th>\n",
       "    </tr>\n",
       "  </thead>\n",
       "  <tbody>\n",
       "    <tr>\n",
       "      <th>0</th>\n",
       "      <td>0</td>\n",
       "      <td>0</td>\n",
       "      <td>0</td>\n",
       "      <td>0</td>\n",
       "      <td>0</td>\n",
       "      <td>0</td>\n",
       "      <td>ac9fefd28</td>\n",
       "      <td>0</td>\n",
       "      <td>0</td>\n",
       "      <td>0</td>\n",
       "      <td>0</td>\n",
       "      <td>1</td>\n",
       "      <td>0</td>\n",
       "      <td>0</td>\n",
       "      <td>0</td>\n",
       "      <td>1</td>\n",
       "      <td>1</td>\n",
       "    </tr>\n",
       "  </tbody>\n",
       "</table>\n",
       "</div>"
      ],
      "text/plain": [
       "   Type  Gender  FurLength  Vaccinated  Dewormed  Sterilized      PetID  \\\n",
       "0     0       0          0           0         0           0  ac9fefd28   \n",
       "\n",
       "   NameNew  AgeNew  Breed1New  ColorQtde  ColorMain  MaturitySizeNew  \\\n",
       "0        0       0          0          0          1                0   \n",
       "\n",
       "   HealthNew  QuantityNew  FeeNew  PhotoAmtNew  \n",
       "0          0            0       1            1  "
      ]
     },
     "execution_count": 276,
     "metadata": {},
     "output_type": "execute_result"
    }
   ],
   "source": [
    "df_streaming"
   ]
  },
  {
   "cell_type": "code",
   "execution_count": 277,
   "metadata": {},
   "outputs": [],
   "source": [
    "#tratando a imagem que será lida no HDFS\n",
    "img_size = 128\n",
    "def resize_to_square(im):\n",
    "    old_size = im.shape[:2]\n",
    "    ratio = float(img_size)/max(old_size)\n",
    "    new_size = tuple([int(x*ratio) for x in old_size])    \n",
    "    im = cv2.resize(im, (new_size[1], new_size[0]))\n",
    "    delta_w = img_size - new_size[1]\n",
    "    delta_h = img_size - new_size[0]\n",
    "    top, bottom = delta_h//2, delta_h-(delta_h//2)\n",
    "    left, right = delta_w//2, delta_w-(delta_w//2)\n",
    "    color = [0, 0, 0]\n",
    "    new_im = cv2.copyMakeBorder(im, top, bottom, left, right, cv2.BORDER_CONSTANT,value=color)\n",
    "    return new_im"
   ]
  },
  {
   "cell_type": "code",
   "execution_count": 278,
   "metadata": {},
   "outputs": [
    {
     "name": "stdout",
     "output_type": "stream",
     "text": [
      "(128, 128, 3)\n"
     ]
    }
   ],
   "source": [
    "#recuperando a imagem cadastrada para o animal\n",
    "images_streaming = []\n",
    "path = \"train_images/\"\n",
    "for i in df_streaming['PetID']:\n",
    "    try:\n",
    "        im = cv2.imread(f'{path}{i}-1.jpg')\n",
    "        im = resize_to_square(im)\n",
    "        print(im.shape)\n",
    "        images_streaming.append(im)\n",
    "    except:\n",
    "        pass\n",
    "images_streaming = np.asarray(images_streaming)"
   ]
  },
  {
   "cell_type": "code",
   "execution_count": 279,
   "metadata": {},
   "outputs": [],
   "source": [
    "#divide o array da imagem em 255\n",
    "images_streaming = images_streaming/255.0"
   ]
  },
  {
   "cell_type": "code",
   "execution_count": 280,
   "metadata": {},
   "outputs": [],
   "source": [
    "#exclui a coluna PetID do dataframe para poder rodar o modelo\n",
    "df_streaming = df_streaming.drop(columns=['PetID'])"
   ]
  },
  {
   "cell_type": "code",
   "execution_count": 281,
   "metadata": {},
   "outputs": [
    {
     "name": "stdout",
     "output_type": "stream",
     "text": [
      "Modelo carregado do disco\n"
     ]
    }
   ],
   "source": [
    "# Carregar json e criar modelo\n",
    "json_file = open('model.json', 'r')\n",
    "loaded_model_json = json_file.read()\n",
    "json_file.close()\n",
    "loaded_model = model_from_json(loaded_model_json)\n",
    "\n",
    "# Carregando pesos para o modelo\n",
    "loaded_model.load_weights(\"model.h5\")\n",
    "print(\"Modelo carregado do disco\")\n"
   ]
  },
  {
   "cell_type": "code",
   "execution_count": 282,
   "metadata": {},
   "outputs": [],
   "source": [
    "#executa o modelo de predição de adoção\n",
    "preds = loaded_model.predict([df_streaming, images_streaming])"
   ]
  },
  {
   "cell_type": "code",
   "execution_count": 283,
   "metadata": {},
   "outputs": [
    {
     "data": {
      "text/plain": [
       "array([[0.6327927 , 0.36720732]], dtype=float32)"
      ]
     },
     "execution_count": 283,
     "metadata": {},
     "output_type": "execute_result"
    }
   ],
   "source": [
    "preds"
   ]
  },
  {
   "cell_type": "code",
   "execution_count": 284,
   "metadata": {},
   "outputs": [],
   "source": [
    "#inclui a variável resposta no dataframe final do spark\n",
    "y = preds[:,-1]\n",
    "if y>=0.4:\n",
    "    df_streaming_totpandas['AdoptionSpeed'] = 4\n",
    "else:\n",
    "    df_streaming_totpandas['AdoptionSpeed'] = 1\n"
   ]
  },
  {
   "cell_type": "code",
   "execution_count": 285,
   "metadata": {},
   "outputs": [
    {
     "data": {
      "text/html": [
       "<div>\n",
       "<style scoped>\n",
       "    .dataframe tbody tr th:only-of-type {\n",
       "        vertical-align: middle;\n",
       "    }\n",
       "\n",
       "    .dataframe tbody tr th {\n",
       "        vertical-align: top;\n",
       "    }\n",
       "\n",
       "    .dataframe thead th {\n",
       "        text-align: right;\n",
       "    }\n",
       "</style>\n",
       "<table border=\"1\" class=\"dataframe\">\n",
       "  <thead>\n",
       "    <tr style=\"text-align: right;\">\n",
       "      <th></th>\n",
       "      <th>Type</th>\n",
       "      <th>Name</th>\n",
       "      <th>Age</th>\n",
       "      <th>Breed1</th>\n",
       "      <th>Breed2</th>\n",
       "      <th>Gender</th>\n",
       "      <th>Color1</th>\n",
       "      <th>Color2</th>\n",
       "      <th>Color3</th>\n",
       "      <th>MaturitySize</th>\n",
       "      <th>...</th>\n",
       "      <th>Health</th>\n",
       "      <th>Quantity</th>\n",
       "      <th>Fee</th>\n",
       "      <th>State</th>\n",
       "      <th>RescuerID</th>\n",
       "      <th>VideoAmt</th>\n",
       "      <th>Description</th>\n",
       "      <th>PetID</th>\n",
       "      <th>PhotoAmt</th>\n",
       "      <th>AdoptionSpeed</th>\n",
       "    </tr>\n",
       "  </thead>\n",
       "  <tbody>\n",
       "    <tr>\n",
       "      <th>0</th>\n",
       "      <td>2</td>\n",
       "      <td>Tom &amp; Jerry</td>\n",
       "      <td>3</td>\n",
       "      <td>265</td>\n",
       "      <td>264</td>\n",
       "      <td>1</td>\n",
       "      <td>6</td>\n",
       "      <td>0</td>\n",
       "      <td>0</td>\n",
       "      <td>3</td>\n",
       "      <td>...</td>\n",
       "      <td>1</td>\n",
       "      <td>1</td>\n",
       "      <td>30</td>\n",
       "      <td>41326</td>\n",
       "      <td>6f40a7acfad5cc0bb3e44591ea446c05</td>\n",
       "      <td>0</td>\n",
       "      <td>descricao</td>\n",
       "      <td>ac9fefd28</td>\n",
       "      <td>5.0</td>\n",
       "      <td>1</td>\n",
       "    </tr>\n",
       "  </tbody>\n",
       "</table>\n",
       "<p>1 rows × 24 columns</p>\n",
       "</div>"
      ],
      "text/plain": [
       "  Type         Name Age Breed1 Breed2 Gender Color1 Color2 Color3  \\\n",
       "0    2  Tom & Jerry   3    265    264      1      6      0      0   \n",
       "\n",
       "  MaturitySize      ...      Health Quantity Fee  State  \\\n",
       "0            3      ...           1        1  30  41326   \n",
       "\n",
       "                          RescuerID VideoAmt Description      PetID PhotoAmt  \\\n",
       "0  6f40a7acfad5cc0bb3e44591ea446c05        0   descricao  ac9fefd28      5.0   \n",
       "\n",
       "  AdoptionSpeed  \n",
       "0             1  \n",
       "\n",
       "[1 rows x 24 columns]"
      ]
     },
     "execution_count": 285,
     "metadata": {},
     "output_type": "execute_result"
    }
   ],
   "source": [
    "df_streaming_totpandas"
   ]
  },
  {
   "cell_type": "code",
   "execution_count": 121,
   "metadata": {},
   "outputs": [],
   "source": [
    "df_streaming_tot = spark.createDataFrame(df_streaming_totpandas)"
   ]
  },
  {
   "cell_type": "code",
   "execution_count": 122,
   "metadata": {},
   "outputs": [],
   "source": [
    "#grava o novo dataframe com a variável resposta no HDFS.\n",
    "df_streaming_tot.coalesce(1).write.save('/user/labdata/prediction_results', format='csv', mode='append')"
   ]
  },
  {
   "cell_type": "code",
   "execution_count": 123,
   "metadata": {},
   "outputs": [
    {
     "name": "stdout",
     "output_type": "stream",
     "text": [
      "A probabilidade de adoção é : [80.81749] %\n"
     ]
    }
   ],
   "source": [
    "#retorna a probabilidade do animal ser adotado\n",
    "score = preds[:,0]*100\n",
    "resultado = 'A probabilidade de adoção é : {0} %'.format(score)\n",
    "print(resultado)\n"
   ]
  },
  {
   "cell_type": "code",
   "execution_count": null,
   "metadata": {},
   "outputs": [],
   "source": []
  }
 ],
 "metadata": {
  "kernelspec": {
   "display_name": "Python 3",
   "language": "python",
   "name": "python3"
  },
  "language_info": {
   "codemirror_mode": {
    "name": "ipython",
    "version": 3
   },
   "file_extension": ".py",
   "mimetype": "text/x-python",
   "name": "python",
   "nbconvert_exporter": "python",
   "pygments_lexer": "ipython3",
   "version": "3.6.3"
  }
 },
 "nbformat": 4,
 "nbformat_minor": 2
}
